import pandas as pd
import os

file_path = "../data/raw/raw_analyst_ratings.csv"

if os.path.exists(file_path):
    df = pd.read_csv(file_path)
    print(df.head())
else:
    print("File not found:", file_path)
